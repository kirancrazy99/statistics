{
 "cells": [
  {
   "cell_type": "markdown",
   "metadata": {
    "ExecuteTime": {
     "end_time": "2020-04-25T15:03:15.866796Z",
     "start_time": "2020-04-25T15:02:49.508967Z"
    }
   },
   "source": [
    "# Range\n",
    "The range9 of a data set is the number R defined by the formula\n",
    "where xmax is the largest measurement in the data set and xmin is the smallest.\n",
    "R = xmax − xmin"
   ]
  },
  {
   "cell_type": "code",
   "execution_count": 16,
   "metadata": {
    "ExecuteTime": {
     "end_time": "2020-04-26T05:27:31.997782Z",
     "start_time": "2020-04-26T05:27:31.991785Z"
    }
   },
   "outputs": [],
   "source": [
    "set1=[40,38,42,40,39,39,43,40,39,40]\n",
    "set2=[46,37,40,33,42,36,40,34,45,47]"
   ]
  },
  {
   "cell_type": "code",
   "execution_count": 18,
   "metadata": {
    "ExecuteTime": {
     "end_time": "2020-04-26T05:28:00.255072Z",
     "start_time": "2020-04-26T05:28:00.247078Z"
    }
   },
   "outputs": [
    {
     "data": {
      "text/plain": [
       "5"
      ]
     },
     "execution_count": 18,
     "metadata": {},
     "output_type": "execute_result"
    }
   ],
   "source": [
    "R=max(set1)-min(set1)\n",
    "R"
   ]
  },
  {
   "cell_type": "code",
   "execution_count": 19,
   "metadata": {
    "ExecuteTime": {
     "end_time": "2020-04-26T05:29:03.475711Z",
     "start_time": "2020-04-26T05:29:03.464718Z"
    }
   },
   "outputs": [
    {
     "data": {
      "text/plain": [
       "14"
      ]
     },
     "execution_count": 19,
     "metadata": {},
     "output_type": "execute_result"
    }
   ],
   "source": [
    "R=max(set2)-min(set2)\n",
    "R"
   ]
  },
  {
   "cell_type": "markdown",
   "metadata": {},
   "source": [
    "# The variance and the standard deviation \n",
    "\n",
    "The sample variance of a set of n sample data is the number s2 defined by the\n",
    "formula.         2\n",
    "s2 = Σ(x − x)\n",
    "     ------------\n",
    "        n-1"
   ]
  },
  {
   "cell_type": "code",
   "execution_count": 21,
   "metadata": {
    "ExecuteTime": {
     "end_time": "2020-04-26T05:33:17.509542Z",
     "start_time": "2020-04-26T05:33:17.499550Z"
    }
   },
   "outputs": [
    {
     "data": {
      "text/plain": [
       "2.0"
      ]
     },
     "execution_count": 21,
     "metadata": {},
     "output_type": "execute_result"
    }
   ],
   "source": [
    "import numpy as np\n",
    "import statistics\n",
    "\n",
    "data=[40,38,42,40,39,39,43,40,39,40]\n",
    "\n",
    "np.var(data)\n"
   ]
  },
  {
   "cell_type": "code",
   "execution_count": 22,
   "metadata": {
    "ExecuteTime": {
     "end_time": "2020-04-26T05:33:36.426488Z",
     "start_time": "2020-04-26T05:33:36.418493Z"
    }
   },
   "outputs": [
    {
     "data": {
      "text/plain": [
       "2.2222222222222223"
      ]
     },
     "execution_count": 22,
     "metadata": {},
     "output_type": "execute_result"
    }
   ],
   "source": [
    "statistics.variance(data)"
   ]
  },
  {
   "cell_type": "code",
   "execution_count": 37,
   "metadata": {
    "ExecuteTime": {
     "end_time": "2020-04-26T05:45:35.668598Z",
     "start_time": "2020-04-26T05:45:35.653609Z"
    }
   },
   "outputs": [
    {
     "data": {
      "text/plain": [
       "2.2222222222222223"
      ]
     },
     "execution_count": 37,
     "metadata": {},
     "output_type": "execute_result"
    }
   ],
   "source": [
    "data=[40,38,42,40,39,39,43,40,39,40]\n",
    "sample_mean=np.mean(data)\n",
    "top=(40-sample_mean)*(40-sample_mean)+(38-sample_mean)*(38-sample_mean)+(42-sample_mean)*(42-sample_mean)+(40-sample_mean)*(40-sample_mean)+(39-sample_mean)*(39-sample_mean)+(39-sample_mean)*(39-sample_mean)+(43-sample_mean)*(43-sample_mean)+(40-sample_mean)*(40-sample_mean)+(39-sample_mean)*(39-sample_mean)+(40-sample_mean)*(40-sample_mean)\n",
    "int(top)/int(10-1)\n",
    "               "
   ]
  },
  {
   "cell_type": "markdown",
   "metadata": {},
   "source": [
    "# sample standard deviation\n",
    "The sample standard deviation of a set of n sample data is the square root of the\n",
    "sample variance, hence is the number s given by the formulas.\n",
    "\n",
    "<img src=\"standard_deviation.png\" />\n",
    "     \n",
    "     \n",
    "     \n",
    "\n",
    "\n"
   ]
  },
  {
   "cell_type": "code",
   "execution_count": 39,
   "metadata": {
    "ExecuteTime": {
     "end_time": "2020-04-26T05:57:52.273054Z",
     "start_time": "2020-04-26T05:57:52.263060Z"
    }
   },
   "outputs": [
    {
     "data": {
      "text/plain": [
       "1.4142135623730951"
      ]
     },
     "execution_count": 39,
     "metadata": {},
     "output_type": "execute_result"
    }
   ],
   "source": [
    "data=[40,38,42,40,39,39,43,40,39,40]\n",
    "np.std(data)"
   ]
  },
  {
   "cell_type": "code",
   "execution_count": 40,
   "metadata": {
    "ExecuteTime": {
     "end_time": "2020-04-26T05:58:14.595674Z",
     "start_time": "2020-04-26T05:58:14.587678Z"
    }
   },
   "outputs": [
    {
     "data": {
      "text/plain": [
       "1.4907119849998598"
      ]
     },
     "execution_count": 40,
     "metadata": {},
     "output_type": "execute_result"
    }
   ],
   "source": [
    "statistics.stdev(data)"
   ]
  }
 ],
 "metadata": {
  "kernelspec": {
   "display_name": "Python 3",
   "language": "python",
   "name": "python3"
  },
  "language_info": {
   "codemirror_mode": {
    "name": "ipython",
    "version": 3
   },
   "file_extension": ".py",
   "mimetype": "text/x-python",
   "name": "python",
   "nbconvert_exporter": "python",
   "pygments_lexer": "ipython3",
   "version": "3.7.6"
  }
 },
 "nbformat": 4,
 "nbformat_minor": 4
}
